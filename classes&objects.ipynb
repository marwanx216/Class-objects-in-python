{
 "cells": [
  {
   "cell_type": "code",
   "execution_count": 1,
   "id": "37d607c1",
   "metadata": {},
   "outputs": [
    {
     "name": "stdout",
     "output_type": "stream",
     "text": [
      "(1, 2, 3)\n"
     ]
    }
   ],
   "source": [
    "# Question 1\n",
    "\n",
    "# Define class Point3D \n",
    "class Point3D:\n",
    "    \n",
    "    #Define __init__ method to intialize attributes \n",
    "    def __init__(self, x, y, z):\n",
    "        self.x = x\n",
    "        self.y = y\n",
    "        self.z = z\n",
    "        \n",
    "    # Define a __repr__() method\n",
    "    # This tells Python to represent this object in the following format: (x, y, z)\n",
    "    def __repr__(self):\n",
    "        return \"(%d, %d, %d)\" % (self.x, self.y, self.z)\n",
    "\n",
    "# Create a variable named my_point containing a new instance of Point3D with x=1, y=2, and z=3.\n",
    "my_point = Point3D(1, 2, 3)\n",
    "\n",
    "print(my_point)"
   ]
  },
  {
   "cell_type": "code",
   "execution_count": 3,
   "id": "54304964",
   "metadata": {},
   "outputs": [
    {
     "name": "stdout",
     "output_type": "stream",
     "text": [
      "Rectangle area:  12\n",
      "Rectangle perimeter:  14\n"
     ]
    }
   ],
   "source": [
    "# Question 2 \n",
    "\n",
    "class Rectangle:\n",
    "    # Define init\n",
    "    # Attributes: Length & Width\n",
    "    def __init__(self, length, width):\n",
    "        self.length = length\n",
    "        self.width = width\n",
    "\n",
    "    # Method to calculate rectangle area\n",
    "    def calculate_area(self):\n",
    "        return (self.length * self.width)\n",
    "\n",
    "    # Method to calculate rectangle perimeter\n",
    "    def calculate_perimeter(self):\n",
    "        return 2 * (self.length + self.width)\n",
    "\n",
    "# a variable named my_rectangle containing a new instance of Rectangle\n",
    "# with width=3 and length = 4\n",
    "my_rectangle = Rectangle(4,3)\n",
    "\n",
    "# Print rectangle area\n",
    "print(\"Rectangle area: \", my_rectangle.calculate_area())\n",
    "#Print rectangle perimeter\n",
    "print(\"Rectangle perimeter: \", my_rectangle.calculate_perimeter())"
   ]
  },
  {
   "cell_type": "code",
   "execution_count": 4,
   "id": "ac3cad9e",
   "metadata": {},
   "outputs": [
    {
     "name": "stdout",
     "output_type": "stream",
     "text": [
      "The point is inside the circle\n"
     ]
    }
   ],
   "source": [
    "# Question 3 \n",
    "import math\n",
    "class circle:\n",
    "\n",
    "    def __init__(self, r):\n",
    "     self.r = r\n",
    "\n",
    "    # The method calculates the circle area\n",
    "    def calc_area(self):\n",
    "        return (math.pi * self.r * self.r)\n",
    "\n",
    "    # The method calculates the circumference(perimeter)\n",
    "    def calc_perimeter(self):\n",
    "        return (math.pi * 2 * self.r)\n",
    "\n",
    "    # Checks whether a point(x,y) belongs to the circle or not\n",
    "    def isInside(self,x,y):\n",
    "        # Distiance to the center\n",
    "        d = math.sqrt((x*x) + (y*y))\n",
    "        # if the distance between the given point and the center(the origin)\n",
    "        # is less than or equal the radius, then the point is inside the radius\n",
    "        if  d <= self.r:\n",
    "            print(\"The point is inside the circle\")\n",
    "        else:\n",
    "            print(\"The point is outside the circle\")\n",
    "\n",
    "\n",
    "my_circle = circle(4)\n",
    "my_circle.isInside(2,3)"
   ]
  },
  {
   "cell_type": "code",
   "execution_count": 6,
   "id": "bccba122",
   "metadata": {},
   "outputs": [
    {
     "name": "stdout",
     "output_type": "stream",
     "text": [
      "Welcome to your bank account!\n",
      "This is a deposit & withdrawal machine\n",
      "Balance =  10000.0\n",
      "Please enter deposit amount: 3450.5\n",
      "3450.5  is deposited successfuly! \n",
      " Thank you for banking with us!\n",
      "Balance =  13450.5\n"
     ]
    }
   ],
   "source": [
    "# Question 4\n",
    "class Bank:\n",
    "\n",
    "    def __init__(self):\n",
    "        self.balance = 10000.0\n",
    "        print(\"Welcome to your bank account!\")\n",
    "        print(\"This is a deposit & withdrawal machine\")\n",
    "     \n",
    "    # Deposit method accepts input from the user which is deposit amount\n",
    "    # and then adds it to the account balance\n",
    "    def deposit(self):\n",
    "        amount= float(input(\"Please enter deposit amount: \"))\n",
    "        self.balance += amount\n",
    "        print(amount, \" is deposited successfuly! \\n Thank you for banking with us!\")\n",
    "     \n",
    "    # Withdrawal method accepts input which is withdrawal amount\n",
    "    # and then subtract it from the balance account\n",
    "    def withdrawal(self):\n",
    "        amount = float(input((\"Please enter withdrawal amount!\")))\n",
    "        \n",
    "        # Checks if the process can be done by checking the account balance\n",
    "        if balance>= amount:\n",
    "            print(amount, \" is withdrawn successfuly! \\n Thank you for banking with us!\")\n",
    "        else:\n",
    "            print(\"Sorry, Insuffecient balance\")\n",
    "            \n",
    "     # Display the account balance\n",
    "    def display_balance(self):\n",
    "        print(\"Balance = \", self.balance)\n",
    "\n",
    "customer = Bank()\n",
    "customer.display_balance()\n",
    "customer.deposit()\n",
    "customer.display_balance()\n"
   ]
  },
  {
   "cell_type": "code",
   "execution_count": null,
   "id": "eb6ecc48",
   "metadata": {},
   "outputs": [],
   "source": []
  }
 ],
 "metadata": {
  "kernelspec": {
   "display_name": "Python 3 (ipykernel)",
   "language": "python",
   "name": "python3"
  },
  "language_info": {
   "codemirror_mode": {
    "name": "ipython",
    "version": 3
   },
   "file_extension": ".py",
   "mimetype": "text/x-python",
   "name": "python",
   "nbconvert_exporter": "python",
   "pygments_lexer": "ipython3",
   "version": "3.9.12"
  }
 },
 "nbformat": 4,
 "nbformat_minor": 5
}
